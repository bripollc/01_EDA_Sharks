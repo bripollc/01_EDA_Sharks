{
 "cells": [
  {
   "cell_type": "code",
   "execution_count": 1,
   "id": "80080c39",
   "metadata": {},
   "outputs": [],
   "source": [
    "import pandas as pd\n",
    "import numpy as np\n",
    "import seaborn as sns\n",
    "import matplotlib.pyplot as plt\n",
    "import pycountry"
   ]
  },
  {
   "cell_type": "markdown",
   "id": "04ac7abb",
   "metadata": {},
   "source": [
    "## LOAD DATA"
   ]
  },
  {
   "cell_type": "code",
   "execution_count": 2,
   "id": "60377276",
   "metadata": {},
   "outputs": [
    {
     "data": {
      "text/html": [
       "<div>\n",
       "<style scoped>\n",
       "    .dataframe tbody tr th:only-of-type {\n",
       "        vertical-align: middle;\n",
       "    }\n",
       "\n",
       "    .dataframe tbody tr th {\n",
       "        vertical-align: top;\n",
       "    }\n",
       "\n",
       "    .dataframe thead th {\n",
       "        text-align: right;\n",
       "    }\n",
       "</style>\n",
       "<table border=\"1\" class=\"dataframe\">\n",
       "  <thead>\n",
       "    <tr style=\"text-align: right;\">\n",
       "      <th></th>\n",
       "      <th>Country</th>\n",
       "      <th>Continent</th>\n",
       "      <th>Hemisphere</th>\n",
       "      <th>Month</th>\n",
       "      <th>Season</th>\n",
       "    </tr>\n",
       "  </thead>\n",
       "  <tbody>\n",
       "    <tr>\n",
       "      <th>0</th>\n",
       "      <td>Usa</td>\n",
       "      <td>North America</td>\n",
       "      <td>North</td>\n",
       "      <td>6</td>\n",
       "      <td>Summer</td>\n",
       "    </tr>\n",
       "    <tr>\n",
       "      <th>1</th>\n",
       "      <td>Usa</td>\n",
       "      <td>North America</td>\n",
       "      <td>North</td>\n",
       "      <td>6</td>\n",
       "      <td>Summer</td>\n",
       "    </tr>\n",
       "    <tr>\n",
       "      <th>2</th>\n",
       "      <td>Usa</td>\n",
       "      <td>North America</td>\n",
       "      <td>North</td>\n",
       "      <td>6</td>\n",
       "      <td>Summer</td>\n",
       "    </tr>\n",
       "    <tr>\n",
       "      <th>3</th>\n",
       "      <td>Australia</td>\n",
       "      <td>Oceania</td>\n",
       "      <td>South</td>\n",
       "      <td>6</td>\n",
       "      <td>Winter</td>\n",
       "    </tr>\n",
       "    <tr>\n",
       "      <th>4</th>\n",
       "      <td>Mexico</td>\n",
       "      <td>North America</td>\n",
       "      <td>North</td>\n",
       "      <td>6</td>\n",
       "      <td>Summer</td>\n",
       "    </tr>\n",
       "    <tr>\n",
       "      <th>...</th>\n",
       "      <td>...</td>\n",
       "      <td>...</td>\n",
       "      <td>...</td>\n",
       "      <td>...</td>\n",
       "      <td>...</td>\n",
       "    </tr>\n",
       "    <tr>\n",
       "      <th>4729</th>\n",
       "      <td>Jamaica</td>\n",
       "      <td>North America</td>\n",
       "      <td>North</td>\n",
       "      <td>12</td>\n",
       "      <td>Winter</td>\n",
       "    </tr>\n",
       "    <tr>\n",
       "      <th>4730</th>\n",
       "      <td>Martinique</td>\n",
       "      <td>North America</td>\n",
       "      <td>North</td>\n",
       "      <td>3</td>\n",
       "      <td>Spring</td>\n",
       "    </tr>\n",
       "    <tr>\n",
       "      <th>4731</th>\n",
       "      <td>Usa</td>\n",
       "      <td>North America</td>\n",
       "      <td>North</td>\n",
       "      <td>8</td>\n",
       "      <td>Summer</td>\n",
       "    </tr>\n",
       "    <tr>\n",
       "      <th>4732</th>\n",
       "      <td>Usa</td>\n",
       "      <td>North America</td>\n",
       "      <td>North</td>\n",
       "      <td>7</td>\n",
       "      <td>Summer</td>\n",
       "    </tr>\n",
       "    <tr>\n",
       "      <th>4733</th>\n",
       "      <td>Barbados</td>\n",
       "      <td>North America</td>\n",
       "      <td>North</td>\n",
       "      <td>3</td>\n",
       "      <td>Spring</td>\n",
       "    </tr>\n",
       "  </tbody>\n",
       "</table>\n",
       "<p>4734 rows × 5 columns</p>\n",
       "</div>"
      ],
      "text/plain": [
       "         Country      Continent Hemisphere  Month  Season\n",
       "0            Usa  North America      North      6  Summer\n",
       "1            Usa  North America      North      6  Summer\n",
       "2            Usa  North America      North      6  Summer\n",
       "3      Australia        Oceania      South      6  Winter\n",
       "4         Mexico  North America      North      6  Summer\n",
       "...          ...            ...        ...    ...     ...\n",
       "4729     Jamaica  North America      North     12  Winter\n",
       "4730  Martinique  North America      North      3  Spring\n",
       "4731         Usa  North America      North      8  Summer\n",
       "4732         Usa  North America      North      7  Summer\n",
       "4733    Barbados  North America      North      3  Spring\n",
       "\n",
       "[4734 rows x 5 columns]"
      ]
     },
     "execution_count": 2,
     "metadata": {},
     "output_type": "execute_result"
    }
   ],
   "source": [
    "continent_season = pd.read_csv(\"data/continent_season.csv\", encoding=\"latin1\")\n",
    "continent_season"
   ]
  },
  {
   "cell_type": "code",
   "execution_count": 3,
   "id": "7e3d50ce",
   "metadata": {},
   "outputs": [
    {
     "data": {
      "text/plain": [
       "Country       0\n",
       "Continent     0\n",
       "Hemisphere    0\n",
       "Month         0\n",
       "Season        0\n",
       "dtype: int64"
      ]
     },
     "execution_count": 3,
     "metadata": {},
     "output_type": "execute_result"
    }
   ],
   "source": [
    "pd.isnull(continent_season).sum()"
   ]
  },
  {
   "cell_type": "code",
   "execution_count": 4,
   "id": "53cc25dd",
   "metadata": {},
   "outputs": [],
   "source": [
    "type_shark = pd.read_csv(\"data/continent_season_type-shark.csv\", encoding=\"latin1\")"
   ]
  },
  {
   "cell_type": "code",
   "execution_count": 5,
   "id": "93a2d8b2",
   "metadata": {},
   "outputs": [
    {
     "data": {
      "text/plain": [
       "Country       0\n",
       "Continent     0\n",
       "Month         0\n",
       "Year          0\n",
       "Season        0\n",
       "Type Shark    0\n",
       "dtype: int64"
      ]
     },
     "execution_count": 5,
     "metadata": {},
     "output_type": "execute_result"
    }
   ],
   "source": [
    "pd.isnull(type_shark).sum()"
   ]
  },
  {
   "cell_type": "markdown",
   "id": "32e94077",
   "metadata": {},
   "source": [
    "## DISPLAYING SETTINGS"
   ]
  },
  {
   "cell_type": "code",
   "execution_count": 6,
   "id": "99b9dc4a",
   "metadata": {},
   "outputs": [],
   "source": [
    "# Matplotlib inline to visualize Matplotlib graphs\n",
    "%matplotlib inline\n",
    "%config Inlinebackend.figure_format= 'retina'"
   ]
  },
  {
   "cell_type": "code",
   "execution_count": 7,
   "id": "b885b909",
   "metadata": {},
   "outputs": [],
   "source": [
    "# Configuration to set so that all the Seaborn figs come out with this size\n",
    "sns.set_context(\"poster\")\n",
    "sns.set(rc={\"figure.figsize\": (12.,6.)})\n",
    "sns.set_style(\"whitegrid\")"
   ]
  },
  {
   "cell_type": "markdown",
   "id": "4b50751f",
   "metadata": {},
   "source": [
    "## HYPOTHESIS"
   ]
  },
  {
   "cell_type": "code",
   "execution_count": 8,
   "id": "0704d9b1",
   "metadata": {},
   "outputs": [
    {
     "data": {
      "text/html": [
       "<div>\n",
       "<style scoped>\n",
       "    .dataframe tbody tr th:only-of-type {\n",
       "        vertical-align: middle;\n",
       "    }\n",
       "\n",
       "    .dataframe tbody tr th {\n",
       "        vertical-align: top;\n",
       "    }\n",
       "\n",
       "    .dataframe thead th {\n",
       "        text-align: right;\n",
       "    }\n",
       "</style>\n",
       "<table border=\"1\" class=\"dataframe\">\n",
       "  <thead>\n",
       "    <tr style=\"text-align: right;\">\n",
       "      <th></th>\n",
       "      <th>Country</th>\n",
       "      <th>Hemisphere</th>\n",
       "      <th>Month</th>\n",
       "      <th>Season</th>\n",
       "    </tr>\n",
       "    <tr>\n",
       "      <th>Continent</th>\n",
       "      <th></th>\n",
       "      <th></th>\n",
       "      <th></th>\n",
       "      <th></th>\n",
       "    </tr>\n",
       "  </thead>\n",
       "  <tbody>\n",
       "    <tr>\n",
       "      <th>Africa</th>\n",
       "      <td>651</td>\n",
       "      <td>651</td>\n",
       "      <td>651</td>\n",
       "      <td>651</td>\n",
       "    </tr>\n",
       "    <tr>\n",
       "      <th>Asia</th>\n",
       "      <td>218</td>\n",
       "      <td>218</td>\n",
       "      <td>218</td>\n",
       "      <td>218</td>\n",
       "    </tr>\n",
       "    <tr>\n",
       "      <th>Europe</th>\n",
       "      <td>129</td>\n",
       "      <td>129</td>\n",
       "      <td>129</td>\n",
       "      <td>129</td>\n",
       "    </tr>\n",
       "    <tr>\n",
       "      <th>North America</th>\n",
       "      <td>2187</td>\n",
       "      <td>2187</td>\n",
       "      <td>2187</td>\n",
       "      <td>2187</td>\n",
       "    </tr>\n",
       "    <tr>\n",
       "      <th>Oceania</th>\n",
       "      <td>1402</td>\n",
       "      <td>1402</td>\n",
       "      <td>1402</td>\n",
       "      <td>1402</td>\n",
       "    </tr>\n",
       "    <tr>\n",
       "      <th>South America</th>\n",
       "      <td>147</td>\n",
       "      <td>147</td>\n",
       "      <td>147</td>\n",
       "      <td>147</td>\n",
       "    </tr>\n",
       "  </tbody>\n",
       "</table>\n",
       "</div>"
      ],
      "text/plain": [
       "               Country  Hemisphere  Month  Season\n",
       "Continent                                        \n",
       "Africa             651         651    651     651\n",
       "Asia               218         218    218     218\n",
       "Europe             129         129    129     129\n",
       "North America     2187        2187   2187    2187\n",
       "Oceania           1402        1402   1402    1402\n",
       "South America      147         147    147     147"
      ]
     },
     "execution_count": 8,
     "metadata": {},
     "output_type": "execute_result"
    }
   ],
   "source": [
    "continent_season.groupby(\"Continent\").agg(\"count\")"
   ]
  },
  {
   "cell_type": "markdown",
   "id": "2527dc67",
   "metadata": {},
   "source": [
    "### Hipothesis 1: Sharks attack equally in the northern hemisphere and in the southern hemisphere."
   ]
  },
  {
   "cell_type": "code",
   "execution_count": 9,
   "id": "2e60f53c",
   "metadata": {},
   "outputs": [
    {
     "name": "stdout",
     "output_type": "stream",
     "text": [
      "attacks_by_continent.png  df_final.png              hip2.png\r\n",
      "attacks_by_hemisphere.png df_initial.png            hip3.png\r\n",
      "attacks_by_season.png     hip1.png\r\n"
     ]
    }
   ],
   "source": [
    "!ls images"
   ]
  },
  {
   "cell_type": "code",
   "execution_count": 10,
   "id": "738ac339",
   "metadata": {
    "scrolled": false
   },
   "outputs": [
    {
     "data": {
      "image/png": "[encoded data removed]",
      "text/plain": [
       "<Figure size 864x432 with 1 Axes>"
      ]
     },
     "metadata": {},
     "output_type": "display_data"
    }
   ],
   "source": [
    "colors = { 'Asia': '#ff7f0e','Africa': '#d62728', 'Europe': '#f2f324', 'North America': '#2ca02c', 'South America': '#9467bd', 'Oceania': '#1f77b4'}\n",
    "\n",
    "# Group the data by hemisphere and continent, and count the number of occurrences\n",
    "df_1 = continent_season.groupby(['Hemisphere', 'Continent']).size().unstack()\n",
    "\n",
    "# Plot the data with stacked bar chart and color by continent\n",
    "hip_1 = df_1.plot(kind='bar', stacked=True, title=\"Number of attacks by hemisphere\", color=colors)\n",
    "\n",
    "# Set the x and y axis labels and rotation\n",
    "plt.xticks(rotation=0.5)\n",
    "plt.yticks(rotation=0.5)\n",
    "plt.ylabel(\"Number of attacks\");\n",
    "\n",
    "plt.legend()\n",
    "plt.show()\n",
    "\n",
    "#hip_1.figure.savefig('images/attacks_by_hemisphere.png', dpi=600)"
   ]
  },
  {
   "cell_type": "markdown",
   "id": "b59642b8",
   "metadata": {},
   "source": [
    "### Hipothesis 2: Australia is the continent with the highest number of shark attacks."
   ]
  },
  {
   "cell_type": "code",
   "execution_count": 11,
   "id": "2dda49b9",
   "metadata": {
    "scrolled": false
   },
   "outputs": [
    {
     "data": {
      "image/png": "[encoded data removed]",
      "text/plain": [
       "<Figure size 864x432 with 1 Axes>"
      ]
     },
     "metadata": {},
     "output_type": "display_data"
    }
   ],
   "source": [
    "# COUNTPLOT\n",
    "hip_2 = sns.countplot(x=continent_season[\"Continent\"],\n",
    "                      palette = [\"#2ca02c\", \"#1f77b4\", \"#d62728\", \"#ff7f0e\", \"#9467bd\", \"#f2f324\"], \n",
    "                      order = continent_season[\"Continent\"].value_counts().index);\n",
    "\n",
    "#TITLES\n",
    "hip_2.set_xlabel(\"Continent\")\n",
    "hip_2.set_ylabel(\"Number of Attacks\")\n",
    "hip_2.set_title(\"Attacks by Continent\")\n",
    "\n",
    "#MEDIAN\n",
    "    # Calculate the median of the values of continents\n",
    "median_continents = continent_season[\"Continent\"].value_counts().mean()\n",
    "    # Add an horizontal bar for the median\n",
    "hip_2.axhline(y=median_continents, color=\"black\",label=\"mean\", linestyle=\"dashed\")\n",
    "\n",
    "#PERCENTAGE\n",
    "    # Display the % that represents each Continent\n",
    "total = float(len(continent_season))\n",
    "for bar in hip_2.patches:\n",
    "    # Obtain the height of the bar\n",
    "    height = bar.get_height()\n",
    "    # Calculate the percentage corresponding to the bar height\n",
    "    percent = '{:.1%}'.format(height/total)\n",
    "    # Calculate the position of the center of the bar\n",
    "    x = bar.get_x() + bar.get_width() / 2\n",
    "    y = height + 10\n",
    "    \n",
    "    hip_2.annotate(percent, (x, y), ha='center')\n",
    "\n",
    "    \n",
    "plt.legend()\n",
    "\n",
    "plt.show()\n",
    "\n",
    "#hip_2.figure.savefig('images/attacks_by_continent.png', dpi=600)"
   ]
  },
  {
   "cell_type": "markdown",
   "id": "5cab067a",
   "metadata": {},
   "source": [
    "### Hipothesis 3: In summer there are more shark attacks."
   ]
  },
  {
   "cell_type": "code",
   "execution_count": 12,
   "id": "9cfa99c8",
   "metadata": {},
   "outputs": [
    {
     "data": {
      "image/png": "[encoded data removed]",
      "text/plain": [
       "<Figure size 864x432 with 1 Axes>"
      ]
     },
     "metadata": {},
     "output_type": "display_data"
    }
   ],
   "source": [
    "# SORT continents\n",
    "continent_order = ['North America','Oceania', 'Africa']\n",
    "df_filter_1 = continent_season.loc[continent_season['Continent'].isin(continent_order)]\n",
    "\n",
    "# COUNTPLOT\n",
    "hip_3 = sns.countplot(x=continent_season[\"Continent\"], \n",
    "                      hue=continent_season[\"Season\"],\n",
    "                      data=df_filter_1, \n",
    "                      palette = [\"#d62728\", \"#1f77b4\", \"#f2f324\", \"#ff7f0e\"], \n",
    "                      order=continent_order);\n",
    "\n",
    "\n",
    "#TITLES\n",
    "hip_3.set_xlabel(\"Continent\")\n",
    "hip_3.set_ylabel(\"Number of Attacks\")\n",
    "hip_3.set_title(\"Attacks by Season\")\n",
    "\n",
    "# Add the number of attacks on top of each bar\n",
    "for bar in hip_3.patches:\n",
    "    height = bar.get_height()\n",
    "    hip_3.annotate('{:.0f}'.format(height), xy=(bar.get_x()+bar.get_width()/2., height), \n",
    "                   xytext=(0, 5), textcoords='offset points', ha='center', va='center')\n",
    "\n",
    "plt.show()\n",
    "#hip_3.figure.savefig('images/attacks_by_season.png', dpi=600)"
   ]
  },
  {
   "cell_type": "code",
   "execution_count": 13,
   "id": "ecee3d45",
   "metadata": {
    "scrolled": false
   },
   "outputs": [
    {
     "data": {
      "image/png": "[encoded data removed]",
      "text/plain": [
       "<Figure size 864x432 with 1 Axes>"
      ]
     },
     "metadata": {},
     "output_type": "display_data"
    }
   ],
   "source": [
    "# SORT continents\n",
    "#continent_order = ['North America','Oceania', 'Africa']\n",
    "df_filter_1 = continent_season.loc[continent_season['Continent'].isin(continent_order)]\n",
    "\n",
    "# COUNTPLOT\n",
    "hip_4 = sns.countplot(x=continent_season[\"Continent\"], \n",
    "                      hue=continent_season[\"Season\"],\n",
    "                      data=df_filter_1, \n",
    "                      palette = [\"#d62728\", \"#1f77b4\", \"#f2f324\", \"#ff7f0e\"], \n",
    "                      order=continent_order);\n",
    "\n",
    "#TITLES\n",
    "hip_4.set_xlabel(\"Continent\")\n",
    "hip_4.set_ylabel(\"Number of Attacks\")\n",
    "hip_4.set_title(\"Attacks by Season\")\n",
    "\n",
    "\n",
    "#PERCENTAGE\n",
    "total = float(len(continent_season))\n",
    "for bar in hip_4.patches:\n",
    "    # Obtain the height of the bar\n",
    "    height = bar.get_height()\n",
    "    # Calculate the percentage corresponding to the bar height\n",
    "    percent = '{:.1%}'.format(height/total)\n",
    "    # Calculate the position of the center of the bar\n",
    "    x = bar.get_x() + bar.get_width() / 2\n",
    "    y = height + 10\n",
    "    \n",
    "    hip_4.annotate(percent, (x, y), ha='center')\n",
    "\n",
    "plt.show()\n",
    "\n",
    "#hip_4.figure.savefig('src/attacks_by_season_perc.png', dpi=600)"
   ]
  },
  {
   "cell_type": "code",
   "execution_count": 14,
   "id": "25745869",
   "metadata": {
    "scrolled": false
   },
   "outputs": [
    {
     "data": {
      "text/html": [
       "<div>\n",
       "<style scoped>\n",
       "    .dataframe tbody tr th:only-of-type {\n",
       "        vertical-align: middle;\n",
       "    }\n",
       "\n",
       "    .dataframe tbody tr th {\n",
       "        vertical-align: top;\n",
       "    }\n",
       "\n",
       "    .dataframe thead th {\n",
       "        text-align: right;\n",
       "    }\n",
       "</style>\n",
       "<table border=\"1\" class=\"dataframe\">\n",
       "  <thead>\n",
       "    <tr style=\"text-align: right;\">\n",
       "      <th></th>\n",
       "      <th></th>\n",
       "      <th></th>\n",
       "      <th>Season</th>\n",
       "    </tr>\n",
       "    <tr>\n",
       "      <th>Hemisphere</th>\n",
       "      <th>Continent</th>\n",
       "      <th>Season</th>\n",
       "      <th></th>\n",
       "    </tr>\n",
       "  </thead>\n",
       "  <tbody>\n",
       "    <tr>\n",
       "      <th rowspan=\"12\" valign=\"top\">North</th>\n",
       "      <th rowspan=\"4\" valign=\"top\">Asia</th>\n",
       "      <th>Autumn</th>\n",
       "      <td>46</td>\n",
       "    </tr>\n",
       "    <tr>\n",
       "      <th>Spring</th>\n",
       "      <td>54</td>\n",
       "    </tr>\n",
       "    <tr>\n",
       "      <th>Summer</th>\n",
       "      <td>87</td>\n",
       "    </tr>\n",
       "    <tr>\n",
       "      <th>Winter</th>\n",
       "      <td>31</td>\n",
       "    </tr>\n",
       "    <tr>\n",
       "      <th rowspan=\"4\" valign=\"top\">Europe</th>\n",
       "      <th>Autumn</th>\n",
       "      <td>31</td>\n",
       "    </tr>\n",
       "    <tr>\n",
       "      <th>Spring</th>\n",
       "      <td>11</td>\n",
       "    </tr>\n",
       "    <tr>\n",
       "      <th>Summer</th>\n",
       "      <td>79</td>\n",
       "    </tr>\n",
       "    <tr>\n",
       "      <th>Winter</th>\n",
       "      <td>8</td>\n",
       "    </tr>\n",
       "    <tr>\n",
       "      <th rowspan=\"4\" valign=\"top\">North America</th>\n",
       "      <th>Autumn</th>\n",
       "      <td>618</td>\n",
       "    </tr>\n",
       "    <tr>\n",
       "      <th>Spring</th>\n",
       "      <td>440</td>\n",
       "    </tr>\n",
       "    <tr>\n",
       "      <th>Summer</th>\n",
       "      <td>929</td>\n",
       "    </tr>\n",
       "    <tr>\n",
       "      <th>Winter</th>\n",
       "      <td>200</td>\n",
       "    </tr>\n",
       "    <tr>\n",
       "      <th rowspan=\"12\" valign=\"top\">South</th>\n",
       "      <th rowspan=\"4\" valign=\"top\">Africa</th>\n",
       "      <th>Autumn</th>\n",
       "      <td>162</td>\n",
       "    </tr>\n",
       "    <tr>\n",
       "      <th>Spring</th>\n",
       "      <td>110</td>\n",
       "    </tr>\n",
       "    <tr>\n",
       "      <th>Summer</th>\n",
       "      <td>255</td>\n",
       "    </tr>\n",
       "    <tr>\n",
       "      <th>Winter</th>\n",
       "      <td>124</td>\n",
       "    </tr>\n",
       "    <tr>\n",
       "      <th rowspan=\"4\" valign=\"top\">Oceania</th>\n",
       "      <th>Autumn</th>\n",
       "      <td>337</td>\n",
       "    </tr>\n",
       "    <tr>\n",
       "      <th>Spring</th>\n",
       "      <td>310</td>\n",
       "    </tr>\n",
       "    <tr>\n",
       "      <th>Summer</th>\n",
       "      <td>576</td>\n",
       "    </tr>\n",
       "    <tr>\n",
       "      <th>Winter</th>\n",
       "      <td>179</td>\n",
       "    </tr>\n",
       "    <tr>\n",
       "      <th rowspan=\"4\" valign=\"top\">South America</th>\n",
       "      <th>Autumn</th>\n",
       "      <td>42</td>\n",
       "    </tr>\n",
       "    <tr>\n",
       "      <th>Spring</th>\n",
       "      <td>31</td>\n",
       "    </tr>\n",
       "    <tr>\n",
       "      <th>Summer</th>\n",
       "      <td>41</td>\n",
       "    </tr>\n",
       "    <tr>\n",
       "      <th>Winter</th>\n",
       "      <td>33</td>\n",
       "    </tr>\n",
       "  </tbody>\n",
       "</table>\n",
       "</div>"
      ],
      "text/plain": [
       "                                 Season\n",
       "Hemisphere Continent     Season        \n",
       "North      Asia          Autumn      46\n",
       "                         Spring      54\n",
       "                         Summer      87\n",
       "                         Winter      31\n",
       "           Europe        Autumn      31\n",
       "                         Spring      11\n",
       "                         Summer      79\n",
       "                         Winter       8\n",
       "           North America Autumn     618\n",
       "                         Spring     440\n",
       "                         Summer     929\n",
       "                         Winter     200\n",
       "South      Africa        Autumn     162\n",
       "                         Spring     110\n",
       "                         Summer     255\n",
       "                         Winter     124\n",
       "           Oceania       Autumn     337\n",
       "                         Spring     310\n",
       "                         Summer     576\n",
       "                         Winter     179\n",
       "           South America Autumn      42\n",
       "                         Spring      31\n",
       "                         Summer      41\n",
       "                         Winter      33"
      ]
     },
     "execution_count": 14,
     "metadata": {},
     "output_type": "execute_result"
    }
   ],
   "source": [
    "pd.DataFrame(continent_season.groupby([\"Hemisphere\",\"Continent\", \"Season\"])[\"Season\"].count())"
   ]
  },
  {
   "cell_type": "code",
   "execution_count": 15,
   "id": "098e8493",
   "metadata": {},
   "outputs": [
    {
     "data": {
      "text/html": [
       "<div>\n",
       "<style scoped>\n",
       "    .dataframe tbody tr th:only-of-type {\n",
       "        vertical-align: middle;\n",
       "    }\n",
       "\n",
       "    .dataframe tbody tr th {\n",
       "        vertical-align: top;\n",
       "    }\n",
       "\n",
       "    .dataframe thead th {\n",
       "        text-align: right;\n",
       "    }\n",
       "</style>\n",
       "<table border=\"1\" class=\"dataframe\">\n",
       "  <thead>\n",
       "    <tr style=\"text-align: right;\">\n",
       "      <th></th>\n",
       "      <th></th>\n",
       "      <th>Continent</th>\n",
       "    </tr>\n",
       "    <tr>\n",
       "      <th>Season</th>\n",
       "      <th>Continent</th>\n",
       "      <th></th>\n",
       "    </tr>\n",
       "  </thead>\n",
       "  <tbody>\n",
       "    <tr>\n",
       "      <th rowspan=\"6\" valign=\"top\">Autumn</th>\n",
       "      <th>Africa</th>\n",
       "      <td>162</td>\n",
       "    </tr>\n",
       "    <tr>\n",
       "      <th>Asia</th>\n",
       "      <td>46</td>\n",
       "    </tr>\n",
       "    <tr>\n",
       "      <th>Europe</th>\n",
       "      <td>31</td>\n",
       "    </tr>\n",
       "    <tr>\n",
       "      <th>North America</th>\n",
       "      <td>618</td>\n",
       "    </tr>\n",
       "    <tr>\n",
       "      <th>Oceania</th>\n",
       "      <td>337</td>\n",
       "    </tr>\n",
       "    <tr>\n",
       "      <th>South America</th>\n",
       "      <td>42</td>\n",
       "    </tr>\n",
       "    <tr>\n",
       "      <th rowspan=\"6\" valign=\"top\">Spring</th>\n",
       "      <th>Africa</th>\n",
       "      <td>110</td>\n",
       "    </tr>\n",
       "    <tr>\n",
       "      <th>Asia</th>\n",
       "      <td>54</td>\n",
       "    </tr>\n",
       "    <tr>\n",
       "      <th>Europe</th>\n",
       "      <td>11</td>\n",
       "    </tr>\n",
       "    <tr>\n",
       "      <th>North America</th>\n",
       "      <td>440</td>\n",
       "    </tr>\n",
       "    <tr>\n",
       "      <th>Oceania</th>\n",
       "      <td>310</td>\n",
       "    </tr>\n",
       "    <tr>\n",
       "      <th>South America</th>\n",
       "      <td>31</td>\n",
       "    </tr>\n",
       "    <tr>\n",
       "      <th rowspan=\"6\" valign=\"top\">Summer</th>\n",
       "      <th>Africa</th>\n",
       "      <td>255</td>\n",
       "    </tr>\n",
       "    <tr>\n",
       "      <th>Asia</th>\n",
       "      <td>87</td>\n",
       "    </tr>\n",
       "    <tr>\n",
       "      <th>Europe</th>\n",
       "      <td>79</td>\n",
       "    </tr>\n",
       "    <tr>\n",
       "      <th>North America</th>\n",
       "      <td>929</td>\n",
       "    </tr>\n",
       "    <tr>\n",
       "      <th>Oceania</th>\n",
       "      <td>576</td>\n",
       "    </tr>\n",
       "    <tr>\n",
       "      <th>South America</th>\n",
       "      <td>41</td>\n",
       "    </tr>\n",
       "    <tr>\n",
       "      <th rowspan=\"6\" valign=\"top\">Winter</th>\n",
       "      <th>Africa</th>\n",
       "      <td>124</td>\n",
       "    </tr>\n",
       "    <tr>\n",
       "      <th>Asia</th>\n",
       "      <td>31</td>\n",
       "    </tr>\n",
       "    <tr>\n",
       "      <th>Europe</th>\n",
       "      <td>8</td>\n",
       "    </tr>\n",
       "    <tr>\n",
       "      <th>North America</th>\n",
       "      <td>200</td>\n",
       "    </tr>\n",
       "    <tr>\n",
       "      <th>Oceania</th>\n",
       "      <td>179</td>\n",
       "    </tr>\n",
       "    <tr>\n",
       "      <th>South America</th>\n",
       "      <td>33</td>\n",
       "    </tr>\n",
       "  </tbody>\n",
       "</table>\n",
       "</div>"
      ],
      "text/plain": [
       "                      Continent\n",
       "Season Continent               \n",
       "Autumn Africa               162\n",
       "       Asia                  46\n",
       "       Europe                31\n",
       "       North America        618\n",
       "       Oceania              337\n",
       "       South America         42\n",
       "Spring Africa               110\n",
       "       Asia                  54\n",
       "       Europe                11\n",
       "       North America        440\n",
       "       Oceania              310\n",
       "       South America         31\n",
       "Summer Africa               255\n",
       "       Asia                  87\n",
       "       Europe                79\n",
       "       North America        929\n",
       "       Oceania              576\n",
       "       South America         41\n",
       "Winter Africa               124\n",
       "       Asia                  31\n",
       "       Europe                 8\n",
       "       North America        200\n",
       "       Oceania              179\n",
       "       South America         33"
      ]
     },
     "execution_count": 15,
     "metadata": {},
     "output_type": "execute_result"
    }
   ],
   "source": [
    "pd.DataFrame(continent_season.groupby([\"Season\", \"Continent\"])[\"Continent\"].count())"
   ]
  },
  {
   "cell_type": "markdown",
   "id": "6e687465",
   "metadata": {},
   "source": [
    "## DRAFT"
   ]
  },
  {
   "cell_type": "code",
   "execution_count": 16,
   "id": "906a0cc2",
   "metadata": {},
   "outputs": [
    {
     "data": {
      "text/html": [
       "<div>\n",
       "<style scoped>\n",
       "    .dataframe tbody tr th:only-of-type {\n",
       "        vertical-align: middle;\n",
       "    }\n",
       "\n",
       "    .dataframe tbody tr th {\n",
       "        vertical-align: top;\n",
       "    }\n",
       "\n",
       "    .dataframe thead th {\n",
       "        text-align: right;\n",
       "    }\n",
       "</style>\n",
       "<table border=\"1\" class=\"dataframe\">\n",
       "  <thead>\n",
       "    <tr style=\"text-align: right;\">\n",
       "      <th></th>\n",
       "      <th>Country</th>\n",
       "      <th>Continent</th>\n",
       "      <th>Month</th>\n",
       "      <th>Year</th>\n",
       "      <th>Season</th>\n",
       "    </tr>\n",
       "    <tr>\n",
       "      <th>Type Shark</th>\n",
       "      <th></th>\n",
       "      <th></th>\n",
       "      <th></th>\n",
       "      <th></th>\n",
       "      <th></th>\n",
       "    </tr>\n",
       "  </thead>\n",
       "  <tbody>\n",
       "    <tr>\n",
       "      <th>Blacktip</th>\n",
       "      <td>21</td>\n",
       "      <td>21</td>\n",
       "      <td>21</td>\n",
       "      <td>21</td>\n",
       "      <td>21</td>\n",
       "    </tr>\n",
       "    <tr>\n",
       "      <th>Bull</th>\n",
       "      <td>65</td>\n",
       "      <td>65</td>\n",
       "      <td>65</td>\n",
       "      <td>65</td>\n",
       "      <td>65</td>\n",
       "    </tr>\n",
       "    <tr>\n",
       "      <th>Mako</th>\n",
       "      <td>26</td>\n",
       "      <td>26</td>\n",
       "      <td>26</td>\n",
       "      <td>26</td>\n",
       "      <td>26</td>\n",
       "    </tr>\n",
       "    <tr>\n",
       "      <th>Tiger</th>\n",
       "      <td>107</td>\n",
       "      <td>107</td>\n",
       "      <td>107</td>\n",
       "      <td>107</td>\n",
       "      <td>107</td>\n",
       "    </tr>\n",
       "    <tr>\n",
       "      <th>White Shark</th>\n",
       "      <td>373</td>\n",
       "      <td>373</td>\n",
       "      <td>373</td>\n",
       "      <td>373</td>\n",
       "      <td>373</td>\n",
       "    </tr>\n",
       "  </tbody>\n",
       "</table>\n",
       "</div>"
      ],
      "text/plain": [
       "             Country  Continent  Month  Year  Season\n",
       "Type Shark                                          \n",
       "Blacktip          21         21     21    21      21\n",
       "Bull              65         65     65    65      65\n",
       "Mako              26         26     26    26      26\n",
       "Tiger            107        107    107   107     107\n",
       "White Shark      373        373    373   373     373"
      ]
     },
     "execution_count": 16,
     "metadata": {},
     "output_type": "execute_result"
    }
   ],
   "source": [
    "type_shark.groupby(\"Type Shark\").agg(\"count\")"
   ]
  },
  {
   "cell_type": "code",
   "execution_count": 17,
   "id": "e359deca",
   "metadata": {},
   "outputs": [
    {
     "data": {
      "image/png": "[encoded data removed]",
      "text/plain": [
       "<Figure size 864x432 with 1 Axes>"
      ]
     },
     "metadata": {},
     "output_type": "display_data"
    }
   ],
   "source": [
    " sns.countplot(x=type_shark[\"Type Shark\"], hue=type_shark[\"Month\"], palette=\"viridis\");"
   ]
  },
  {
   "cell_type": "code",
   "execution_count": 18,
   "id": "fd1ef8ce",
   "metadata": {
    "scrolled": true
   },
   "outputs": [
    {
     "data": {
      "image/png": "[encoded data removed]",
      "text/plain": [
       "<Figure size 864x432 with 1 Axes>"
      ]
     },
     "metadata": {},
     "output_type": "display_data"
    }
   ],
   "source": [
    "sns.countplot(x=continent_season[\"Continent\"], hue=continent_season[\"Month\"], palette=\"viridis\");"
   ]
  },
  {
   "cell_type": "code",
   "execution_count": 19,
   "id": "7c6c20a8",
   "metadata": {},
   "outputs": [
    {
     "data": {
      "image/png": "[encoded data removed]",
      "text/plain": [
       "<Figure size 229.425x180 with 2 Axes>"
      ]
     },
     "metadata": {},
     "output_type": "display_data"
    }
   ],
   "source": [
    "sns.pairplot(continent_season, hue=\"Season\");"
   ]
  },
  {
   "cell_type": "code",
   "execution_count": 20,
   "id": "1d051075",
   "metadata": {
    "scrolled": false
   },
   "outputs": [
    {
     "data": {
      "image/png": "[encoded data removed]",
      "text/plain": [
       "<Figure size 864x432 with 1 Axes>"
      ]
     },
     "metadata": {},
     "output_type": "display_data"
    }
   ],
   "source": [
    "hip_3 = sns.countplot(x=continent_season[\"Continent\"], hue=continent_season[\"Season\"], palette=\"viridis\");\n",
    "\n",
    "\n",
    "plt.show()\n"
   ]
  }
 ],
 "metadata": {
  "kernelspec": {
   "display_name": "ironhack",
   "language": "python",
   "name": "ironhack"
  },
  "language_info": {
   "codemirror_mode": {
    "name": "ipython",
    "version": 3
   },
   "file_extension": ".py",
   "mimetype": "text/x-python",
   "name": "python",
   "nbconvert_exporter": "python",
   "pygments_lexer": "ipython3",
   "version": "3.9.12"
  },
  "toc": {
   "base_numbering": 1,
   "nav_menu": {},
   "number_sections": true,
   "sideBar": true,
   "skip_h1_title": false,
   "title_cell": "Table of Contents",
   "title_sidebar": "Contents",
   "toc_cell": false,
   "toc_position": {},
   "toc_section_display": true,
   "toc_window_display": false
  }
 },
 "nbformat": 4,
 "nbformat_minor": 5
}
